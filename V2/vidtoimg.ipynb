{
 "cells": [
  {
   "cell_type": "code",
   "execution_count": 129,
   "metadata": {},
   "outputs": [],
   "source": [
    "import numpy as np  \n",
    "import cv2  \n",
    "  \n",
    "cap = cv2.VideoCapture(0)  \n",
    "  \n",
    "# Define the codec and create VideoWriter object  \n",
    "fourcc = cv2.VideoWriter_fourcc(*'XVID')  \n",
    "out = cv2.VideoWriter('totranslate.avi',fourcc, 20.0, (640,480))  \n",
    "  \n",
    "while(cap.isOpened()):  \n",
    "    ret, frame = cap.read()  \n",
    "    if ret==True:  \n",
    "        frame = cv2.flip(frame,1)  \n",
    "  \n",
    "        # write the flipped frame  \n",
    "        out.write(frame)  \n",
    "  \n",
    "        cv2.imshow('frame',frame)  \n",
    "        if cv2.waitKey(1) & 0xFF == ord('q'):  \n",
    "            break  \n",
    "    else:  \n",
    "        break  \n",
    "  \n",
    "# Release everything if job is finished  \n",
    "cap.release()  \n",
    "out.release()  \n",
    "cv2.destroyAllWindows()  "
   ]
  },
  {
   "cell_type": "code",
   "execution_count": 133,
   "metadata": {},
   "outputs": [],
   "source": [
    "cap = cv2.VideoCapture(\"totranslate.avi\")\n",
    "\n",
    "time_skips = float(2000)\n",
    "\n",
    "count = 0\n",
    "success,image = cap.read()\n",
    "while success:\n",
    "    cv2.imwrite(\"translate/frame%d.jpg\" % count, image)     \n",
    "    cap.set(cv2.CAP_PROP_POS_MSEC,(count*time_skips))    # move the time\n",
    "    success,image = cap.read()\n",
    "    count += 1\n",
    "\n",
    "# release after reading    \n",
    "cap.release()"
   ]
  },
  {
   "cell_type": "code",
   "execution_count": 131,
   "metadata": {},
   "outputs": [],
   "source": [
    "# from tensorflow.keras.preprocessing import image\n",
    "\n",
    "#imgarr=[]\n",
    "#for i in range(2,count):\n",
    "#    imgadd=image.load_img(\"translate/frame%d.jpg\"%i,target_size=(128,128))\n",
    "#    imgarr.append(imgadd)"
   ]
  },
  {
   "cell_type": "code",
   "execution_count": null,
   "metadata": {},
   "outputs": [],
   "source": []
  }
 ],
 "metadata": {
  "interpreter": {
   "hash": "ca6acb01abda7e538f5829adaf677e89b8f157ae329a6ffdd1ee8599e5d23fa2"
  },
  "kernelspec": {
   "display_name": "Python 3.10.0 64-bit",
   "language": "python",
   "name": "python3"
  },
  "language_info": {
   "codemirror_mode": {
    "name": "ipython",
    "version": 3
   },
   "file_extension": ".py",
   "mimetype": "text/x-python",
   "name": "python",
   "nbconvert_exporter": "python",
   "pygments_lexer": "ipython3",
   "version": "3.10.0"
  },
  "orig_nbformat": 4
 },
 "nbformat": 4,
 "nbformat_minor": 2
}
