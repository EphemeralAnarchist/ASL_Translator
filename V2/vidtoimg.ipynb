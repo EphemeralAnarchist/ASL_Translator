{
 "cells": [
  {
   "cell_type": "code",
   "execution_count": 1,
   "metadata": {},
   "outputs": [],
   "source": [
    "import numpy as np  \n",
    "import cv2  \n",
    "  \n",
    "cap = cv2.VideoCapture(0)  \n",
    "  \n",
    "# Define the codec and create VideoWriter object  \n",
    "fourcc = cv2.VideoWriter_fourcc(*'XVID')  \n",
    "out = cv2.VideoWriter('totranslate.avi',fourcc, 20.0, (640,480))  \n",
    "  \n",
    "while(cap.isOpened()):  \n",
    "    ret, frame = cap.read()  \n",
    "    if ret==True:  \n",
    "        frame = cv2.flip(frame,1)  \n",
    "  \n",
    "        # write the flipped frame  \n",
    "        out.write(frame)  \n",
    "  \n",
    "        cv2.imshow('frame',frame)  \n",
    "        if cv2.waitKey(1) & 0xFF == ord('q'):  \n",
    "            break  \n",
    "    else:  \n",
    "        break  \n",
    "  \n",
    "# Release everything if job is finished  \n",
    "cap.release()  \n",
    "out.release()  \n",
    "cv2.destroyAllWindows()  "
   ]
  },
  {
   "cell_type": "code",
   "execution_count": null,
   "metadata": {},
   "outputs": [],
   "source": []
  }
 ],
 "metadata": {
  "interpreter": {
   "hash": "ca6acb01abda7e538f5829adaf677e89b8f157ae329a6ffdd1ee8599e5d23fa2"
  },
  "kernelspec": {
   "display_name": "Python 3.10.0 64-bit",
   "language": "python",
   "name": "python3"
  },
  "language_info": {
   "codemirror_mode": {
    "name": "ipython",
    "version": 3
   },
   "file_extension": ".py",
   "mimetype": "text/x-python",
   "name": "python",
   "nbconvert_exporter": "python",
   "pygments_lexer": "ipython3",
   "version": "3.10.0"
  },
  "orig_nbformat": 4
 },
 "nbformat": 4,
 "nbformat_minor": 2
}
