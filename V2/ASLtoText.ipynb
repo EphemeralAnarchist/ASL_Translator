{
 "cells": [
  {
   "cell_type": "code",
   "execution_count": 43,
   "metadata": {},
   "outputs": [],
   "source": [
    "import numpy as np\n",
    "import tensorflow as tf\n",
    "import pandas as pd\n",
    "from tensorflow import keras\n",
    "from keras.models import Sequential\n",
    "from keras.layers import Dense, Conv2D, MaxPool2D, Flatten, Dropout\n",
    "from keras.preprocessing.image import ImageDataGenerator\n",
    "from keras.models import *\n",
    "from keras.layers import *\n",
    "from keras.applications import vgg16\n",
    "import matplotlib.pyplot as plt\n",
    "import cv2\n",
    "from tensorflow.keras.preprocessing import image"
   ]
  },
  {
   "cell_type": "code",
   "execution_count": 44,
   "metadata": {},
   "outputs": [],
   "source": [
    "translator = load_model(\"E:\\Software\\VS Code\\Programs\\Personal\\ASL translator\\Model\\\\trainedasl.h5\")\n",
    "classes=['a','b','c','d','e','f','g','h','i','j','k','l','m','n','o','p','q','r','s','t','u','v','w','x','y','z','del','nothing','space']\n",
    "s=\"\"\n",
    "def predictclass(imgarr):\n",
    "    #imgarr[0]=imgarr[0]/255\n",
    "    predict_x = translator.predict(imgarr)\n",
    "    print(predict_x)\n",
    "    predicted = int(np.argmax(predict_x,axis=1))\n",
    "    print(classes[predicted])\n",
    "    return(classes[predicted])"
   ]
  },
  {
   "cell_type": "code",
   "execution_count": 45,
   "metadata": {},
   "outputs": [],
   "source": [
    "def inpimg(path):\n",
    "    global s\n",
    "    img1=image.load_img(path,target_size=(128,128))\n",
    "    img=image.img_to_array(img1)\n",
    "    img=img/255\n",
    "\n",
    "    imga=np.expand_dims(img,axis=0)\n",
    "\n",
    "    newch = predictclass(imga)\n",
    "\n",
    "    s+=newch"
   ]
  },
  {
   "cell_type": "code",
   "execution_count": 46,
   "metadata": {},
   "outputs": [
    {
     "name": "stdout",
     "output_type": "stream",
     "text": [
      "WARNING:tensorflow:5 out of the last 13 calls to <function Model.make_predict_function.<locals>.predict_function at 0x000001F3C6658040> triggered tf.function retracing. Tracing is expensive and the excessive number of tracings could be due to (1) creating @tf.function repeatedly in a loop, (2) passing tensors with different shapes, (3) passing Python objects instead of tensors. For (1), please define your @tf.function outside of the loop. For (2), @tf.function has reduce_retracing=True option that can avoid unnecessary retracing. For (3), please refer to https://www.tensorflow.org/guide/function#controlling_retracing and https://www.tensorflow.org/api_docs/python/tf/function for  more details.\n",
      "1/1 [==============================] - 3s 3s/step\n",
      "[[6.9593485e-03 9.8894554e-05 4.4001783e-05 6.1611725e-09 1.2520055e-04\n",
      "  6.3891008e-07 1.4889523e-03 6.8094027e-03 1.8571387e-07 4.7310452e-05\n",
      "  6.6585579e-07 7.8114262e-08 1.1427892e-01 7.0462197e-01 1.2501333e-06\n",
      "  1.5171926e-01 4.3165754e-03 7.9600788e-08 2.0490752e-05 2.4109468e-05\n",
      "  9.5333746e-08 6.8228148e-09 1.5570339e-07 4.9447126e-06 2.9180571e-06\n",
      "  5.1695439e-05 8.5637458e-03 8.1914209e-04 4.6522786e-08]]\n",
      "n\n",
      "1/1 [==============================] - 2s 2s/step\n",
      "[[9.7791934e-03 9.1384470e-01 4.6362032e-07 8.0283035e-06 2.2735453e-04\n",
      "  3.6446551e-07 5.2535842e-04 3.2463041e-03 1.6398910e-03 1.6653515e-06\n",
      "  1.6428188e-03 3.1571249e-06 1.4911538e-03 3.8361633e-03 3.3867985e-07\n",
      "  4.7703864e-04 4.9372247e-06 5.8117699e-02 3.5961407e-06 1.4386495e-07\n",
      "  3.9567304e-04 5.6449444e-06 2.3517853e-06 2.4472520e-04 5.1776148e-09\n",
      "  2.7182304e-07 6.1880419e-05 4.4390596e-03 5.3226479e-08]]\n",
      "b\n",
      "1/1 [==============================] - 1s 722ms/step\n",
      "[[1.7556234e-03 4.3759203e-05 3.6280856e-06 1.0329487e-08 5.2772375e-06\n",
      "  2.5073476e-05 1.0612697e-07 2.8461327e-05 5.9388930e-12 3.7518753e-09\n",
      "  2.0206224e-08 7.5238171e-09 3.1648120e-03 3.2980603e-01 2.5584164e-08\n",
      "  6.6472238e-01 3.2260446e-04 7.5402018e-11 4.9363673e-09 3.9534200e-07\n",
      "  1.5208780e-10 2.3398363e-11 7.4011700e-07 1.6230544e-09 8.4560892e-10\n",
      "  1.4725936e-06 1.1670145e-04 2.9200678e-06 3.4393777e-12]]\n",
      "p\n"
     ]
    }
   ],
   "source": [
    "#loop here\n",
    "import os\n",
    "# folder path\n",
    "dir_path = \"E:\\Software\\VS Code\\Programs\\Personal\\ASL translator\\\\translate\"\n",
    "count = 0\n",
    "# Iterate directory\n",
    "for path in os.listdir(dir_path):\n",
    "    # check if current path is a file\n",
    "    if os.path.isfile(os.path.join(dir_path, path)):\n",
    "        count += 1\n",
    "\n",
    "for i in range(2,count):\n",
    "    inpimg(\"translate/frame%d.jpg\"%i)"
   ]
  },
  {
   "cell_type": "code",
   "execution_count": 47,
   "metadata": {},
   "outputs": [
    {
     "data": {
      "text/plain": [
       "'nbp'"
      ]
     },
     "execution_count": 47,
     "metadata": {},
     "output_type": "execute_result"
    }
   ],
   "source": [
    "s"
   ]
  },
  {
   "cell_type": "markdown",
   "metadata": {},
   "source": [
    "### NLP"
   ]
  },
  {
   "cell_type": "code",
   "execution_count": 6,
   "metadata": {},
   "outputs": [],
   "source": [
    "from math import log\n",
    "\n",
    "# Build a cost dictionary, assuming Zipf's law and cost = -math.log(probability).\n",
    "words = open(\"E:\\Software\\VS Code\\Programs\\Personal\\ASL translator\\words-by-frequency.txt\").read().split()\n",
    "wordcost = dict((k, log((i+1)*log(len(words)))) for i,k in enumerate(words))\n",
    "maxword = max(len(x) for x in words)\n",
    "\n",
    "def infer_spaces(s):\n",
    "    \"\"\"Uses dynamic programming to infer the location of spaces in a string\n",
    "    without spaces.\"\"\"\n",
    "\n",
    "    # Find the best match for the i first characters, assuming cost has\n",
    "    # been built for the i-1 first characters.\n",
    "    # Returns a pair (match_cost, match_length).\n",
    "    def best_match(i):\n",
    "        candidates = enumerate(reversed(cost[max(0, i-maxword):i]))\n",
    "        return min((c + wordcost.get(s[i-k-1:i], 9e999), k+1) for k,c in candidates)\n",
    "\n",
    "    # Build the cost array.\n",
    "    cost = [0]\n",
    "    for i in range(1,len(s)+1):\n",
    "        c,k = best_match(i)\n",
    "        cost.append(c)\n",
    "\n",
    "    # Backtrack to recover the minimal-cost string.\n",
    "    out = []\n",
    "    i = len(s)\n",
    "    while i>0:\n",
    "        c,k = best_match(i)\n",
    "        assert c == cost[i]\n",
    "        out.append(s[i-k:i])\n",
    "        i -= k\n",
    "\n",
    "    return \" \".join(reversed(out))"
   ]
  },
  {
   "cell_type": "code",
   "execution_count": 7,
   "metadata": {},
   "outputs": [
    {
     "name": "stdout",
     "output_type": "stream",
     "text": [
      "nb\n"
     ]
    }
   ],
   "source": [
    "text = s.lower()\n",
    "#text=\"thisisatest\"\n",
    "text = infer_spaces(text)\n",
    "print(text)"
   ]
  },
  {
   "cell_type": "markdown",
   "metadata": {},
   "source": [
    "### Text to Speech"
   ]
  },
  {
   "cell_type": "code",
   "execution_count": 8,
   "metadata": {},
   "outputs": [],
   "source": [
    "# to speech conversion\n",
    "from gtts import gTTS\n",
    "\n",
    "# os is imported so that we can play the converted audio\n",
    "import os\n",
    "\n",
    "ASLtext = text\n",
    "\n",
    "# We are converting the text into three Languages\n",
    "language = 'en'\n",
    "language1 = 'fr'\n",
    "language2 = 'es'\n",
    "\n",
    "# Passing the text and language to the engine, here we have marked slow=Ture. Which tells\n",
    "# the module that the converted audio should have a slow speed\n",
    "speech1 = gTTS(text=ASLtext, lang=language, slow=True)\n",
    "speech2 = gTTS(text=ASLtext, lang=language1, slow=True)\n",
    "speech3 = gTTS(text=ASLtext, lang=language2, slow=True)\n",
    "# Saving the converted audio in a mp3 file named ASLtoTTS\n",
    "speech1.save(\"E:\\Software\\VS Code\\Programs\\Personal\\ASL translator\\TTS\\ASLtoTTS.mp3\")\n",
    "speech2.save(\"E:\\Software\\VS Code\\Programs\\Personal\\ASL translator\\TTS\\ASLtoTTSfr.mp3\")\n",
    "speech3.save(\"E:\\Software\\VS Code\\Programs\\Personal\\ASL translator\\TTS\\ASLtoTTSes.mp3\")"
   ]
  },
  {
   "cell_type": "code",
   "execution_count": null,
   "metadata": {},
   "outputs": [],
   "source": []
  }
 ],
 "metadata": {
  "interpreter": {
   "hash": "ca6acb01abda7e538f5829adaf677e89b8f157ae329a6ffdd1ee8599e5d23fa2"
  },
  "kernelspec": {
   "display_name": "Python 3.10.0 64-bit",
   "language": "python",
   "name": "python3"
  },
  "language_info": {
   "codemirror_mode": {
    "name": "ipython",
    "version": 3
   },
   "file_extension": ".py",
   "mimetype": "text/x-python",
   "name": "python",
   "nbconvert_exporter": "python",
   "pygments_lexer": "ipython3",
   "version": "3.10.0"
  },
  "orig_nbformat": 4
 },
 "nbformat": 4,
 "nbformat_minor": 2
}
