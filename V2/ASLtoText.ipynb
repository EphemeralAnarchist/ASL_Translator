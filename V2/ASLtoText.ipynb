{
 "cells": [
  {
   "cell_type": "code",
   "execution_count": 1,
   "metadata": {},
   "outputs": [],
   "source": [
    "import numpy as np\n",
    "import tensorflow as tf\n",
    "import pandas as pd\n",
    "from tensorflow import keras\n",
    "from keras.models import Sequential\n",
    "from keras.layers import Dense, Conv2D, MaxPool2D, Flatten, Dropout\n",
    "from keras.preprocessing.image import ImageDataGenerator\n",
    "from keras.models import *\n",
    "from keras.layers import *\n",
    "from keras.applications import vgg16\n",
    "import matplotlib.pyplot as plt\n",
    "import cv2\n",
    "from tensorflow.keras.preprocessing import image"
   ]
  },
  {
   "cell_type": "code",
   "execution_count": 24,
   "metadata": {},
   "outputs": [],
   "source": [
    "translator = load_model(\"E:\\Software\\VS Code\\Programs\\Personal\\ASL translator\\Model\\\\trainedasl.h5\")\n",
    "classes=['a','b','c','d','e','f','g','h','i','j','k','l','m','n','o','p','q','r','s','t','u','v','w','x','y','z','del','nothing','space']\n",
    "s=\"\"\n",
    "def predictclass(imgarr):\n",
    "    #imgarr[0]=imgarr[0]/255\n",
    "    predict_x = translator.predict(imgarr)\n",
    "    print(predict_x)\n",
    "    predicted = int(np.argmax(predict_x,axis=1))\n",
    "    print(classes[predicted])\n",
    "    return(classes[predicted])"
   ]
  },
  {
   "cell_type": "code",
   "execution_count": 37,
   "metadata": {},
   "outputs": [],
   "source": [
    "def inpimg(path):\n",
    "    global s\n",
    "    img1=image.load_img(path,target_size=(128,128))\n",
    "    img=image.img_to_array(img1)\n",
    "    img=img/255\n",
    "\n",
    "    imga=np.expand_dims(img,axis=0)\n",
    "\n",
    "    newch = predictclass(imga)\n",
    "\n",
    "    s+=newch"
   ]
  },
  {
   "cell_type": "code",
   "execution_count": 38,
   "metadata": {},
   "outputs": [
    {
     "name": "stdout",
     "output_type": "stream",
     "text": [
      "1/1 [==============================] - 2s 2s/step\n",
      "[[1.6486943e-08 7.0519798e-07 9.9994385e-01 2.3590435e-06 1.5824433e-08\n",
      "  7.8620724e-07 1.6538500e-08 3.1676116e-08 2.0974481e-12 2.7586598e-11\n",
      "  9.9590357e-11 9.6041015e-09 1.5476635e-10 7.1779360e-10 1.9411809e-08\n",
      "  4.4561366e-05 6.2008121e-06 1.6715043e-12 6.2719385e-11 2.8809310e-09\n",
      "  2.3975735e-12 8.1040930e-13 4.1136143e-11 1.3671961e-12 7.8101371e-12\n",
      "  1.8125158e-08 2.2060904e-09 1.3859125e-06 7.3881529e-10]]\n",
      "c\n"
     ]
    }
   ],
   "source": [
    "#loop here\n",
    "\n",
    "inpimg(\"E:\\Software\\VS Code\\Programs\\Personal\\ASL translator\\splitdata\\\\train\\c\\c80.jpg\")"
   ]
  },
  {
   "cell_type": "code",
   "execution_count": 40,
   "metadata": {},
   "outputs": [
    {
     "data": {
      "text/plain": [
       "'cc'"
      ]
     },
     "execution_count": 40,
     "metadata": {},
     "output_type": "execute_result"
    }
   ],
   "source": [
    "s"
   ]
  },
  {
   "cell_type": "markdown",
   "metadata": {},
   "source": [
    "### NLP"
   ]
  },
  {
   "cell_type": "code",
   "execution_count": 32,
   "metadata": {},
   "outputs": [],
   "source": [
    "from math import log\n",
    "\n",
    "# Build a cost dictionary, assuming Zipf's law and cost = -math.log(probability).\n",
    "words = open(\"E:\\Software\\VS Code\\Programs\\Personal\\ASL translator\\words-by-frequency.txt\").read().split()\n",
    "wordcost = dict((k, log((i+1)*log(len(words)))) for i,k in enumerate(words))\n",
    "maxword = max(len(x) for x in words)\n",
    "\n",
    "def infer_spaces(s):\n",
    "    \"\"\"Uses dynamic programming to infer the location of spaces in a string\n",
    "    without spaces.\"\"\"\n",
    "\n",
    "    # Find the best match for the i first characters, assuming cost has\n",
    "    # been built for the i-1 first characters.\n",
    "    # Returns a pair (match_cost, match_length).\n",
    "    def best_match(i):\n",
    "        candidates = enumerate(reversed(cost[max(0, i-maxword):i]))\n",
    "        return min((c + wordcost.get(s[i-k-1:i], 9e999), k+1) for k,c in candidates)\n",
    "\n",
    "    # Build the cost array.\n",
    "    cost = [0]\n",
    "    for i in range(1,len(s)+1):\n",
    "        c,k = best_match(i)\n",
    "        cost.append(c)\n",
    "\n",
    "    # Backtrack to recover the minimal-cost string.\n",
    "    out = []\n",
    "    i = len(s)\n",
    "    while i>0:\n",
    "        c,k = best_match(i)\n",
    "        assert c == cost[i]\n",
    "        out.append(s[i-k:i])\n",
    "        i -= k\n",
    "\n",
    "    return \" \".join(reversed(out))"
   ]
  },
  {
   "cell_type": "code",
   "execution_count": 33,
   "metadata": {},
   "outputs": [
    {
     "name": "stdout",
     "output_type": "stream",
     "text": [
      "this is a test\n"
     ]
    }
   ],
   "source": [
    "text = s.lower()\n",
    "#text=\"thisisatest\"\n",
    "text = infer_spaces(text)\n",
    "print(text)"
   ]
  },
  {
   "cell_type": "markdown",
   "metadata": {},
   "source": [
    "### Text to Speech"
   ]
  },
  {
   "cell_type": "code",
   "execution_count": 34,
   "metadata": {},
   "outputs": [],
   "source": [
    "# to speech conversion\n",
    "from gtts import gTTS\n",
    "\n",
    "# os is imported so that we can play the converted audio\n",
    "import os\n",
    "\n",
    "ASLtext = text\n",
    "\n",
    "# We are converting the text into three Languages\n",
    "language = 'en'\n",
    "language1 = 'fr'\n",
    "language2 = 'es'\n",
    "\n",
    "# Passing the text and language to the engine, here we have marked slow=Ture. Which tells\n",
    "# the module that the converted audio should have a slow speed\n",
    "speech1 = gTTS(text=ASLtext, lang=language, slow=True)\n",
    "speech2 = gTTS(text=ASLtext, lang=language1, slow=True)\n",
    "speech3 = gTTS(text=ASLtext, lang=language2, slow=True)\n",
    "# Saving the converted audio in a mp3 file named ASLtoTTS\n",
    "speech1.save(\"E:\\Software\\VS Code\\Programs\\Personal\\ASL translator\\TTS\\ASLtoTTS.mp3\")\n",
    "speech2.save(\"E:\\Software\\VS Code\\Programs\\Personal\\ASL translator\\TTS\\ASLtoTTSfr.mp3\")\n",
    "speech3.save(\"E:\\Software\\VS Code\\Programs\\Personal\\ASL translator\\TTS\\ASLtoTTSes.mp3\")"
   ]
  },
  {
   "cell_type": "code",
   "execution_count": null,
   "metadata": {},
   "outputs": [],
   "source": []
  }
 ],
 "metadata": {
  "interpreter": {
   "hash": "ca6acb01abda7e538f5829adaf677e89b8f157ae329a6ffdd1ee8599e5d23fa2"
  },
  "kernelspec": {
   "display_name": "Python 3.10.0 64-bit",
   "language": "python",
   "name": "python3"
  },
  "language_info": {
   "codemirror_mode": {
    "name": "ipython",
    "version": 3
   },
   "file_extension": ".py",
   "mimetype": "text/x-python",
   "name": "python",
   "nbconvert_exporter": "python",
   "pygments_lexer": "ipython3",
   "version": "3.10.0"
  },
  "orig_nbformat": 4
 },
 "nbformat": 4,
 "nbformat_minor": 2
}
